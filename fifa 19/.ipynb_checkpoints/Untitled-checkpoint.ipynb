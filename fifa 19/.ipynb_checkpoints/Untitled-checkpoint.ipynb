{
 "cells": [
  {
   "cell_type": "code",
   "execution_count": 1,
   "metadata": {},
   "outputs": [],
   "source": [
    "import numpy as np\n",
    "import pandas as pd\n",
    "import matplotlib.pyplot as plt\n",
    "import seaborn as sns\n",
    "sns.set()\n"
   ]
  },
  {
   "cell_type": "code",
   "execution_count": 30,
   "metadata": {},
   "outputs": [],
   "source": [
    "df = pd.read_csv(\"data.csv\",index_col='ID')"
   ]
  },
  {
   "cell_type": "code",
   "execution_count": 31,
   "metadata": {},
   "outputs": [],
   "source": [
    "df = df[['Name','Flag','Club','Wage','Height','Weight']]"
   ]
  },
  {
   "cell_type": "code",
   "execution_count": 32,
   "metadata": {},
   "outputs": [],
   "source": [
    "df = df.reset_index()"
   ]
  },
  {
   "cell_type": "code",
   "execution_count": 33,
   "metadata": {},
   "outputs": [
    {
     "name": "stdout",
     "output_type": "stream",
     "text": [
      "<class 'pandas.core.frame.DataFrame'>\n",
      "RangeIndex: 18207 entries, 0 to 18206\n",
      "Data columns (total 7 columns):\n",
      "ID        18207 non-null int64\n",
      "Name      18207 non-null object\n",
      "Flag      18207 non-null object\n",
      "Club      17966 non-null object\n",
      "Wage      18207 non-null object\n",
      "Height    18159 non-null object\n",
      "Weight    18159 non-null object\n",
      "dtypes: int64(1), object(6)\n",
      "memory usage: 995.8+ KB\n"
     ]
    }
   ],
   "source": [
    "df.info()"
   ]
  },
  {
   "cell_type": "code",
   "execution_count": 34,
   "metadata": {},
   "outputs": [
    {
     "data": {
      "text/html": [
       "<div>\n",
       "<style scoped>\n",
       "    .dataframe tbody tr th:only-of-type {\n",
       "        vertical-align: middle;\n",
       "    }\n",
       "\n",
       "    .dataframe tbody tr th {\n",
       "        vertical-align: top;\n",
       "    }\n",
       "\n",
       "    .dataframe thead th {\n",
       "        text-align: right;\n",
       "    }\n",
       "</style>\n",
       "<table border=\"1\" class=\"dataframe\">\n",
       "  <thead>\n",
       "    <tr style=\"text-align: right;\">\n",
       "      <th></th>\n",
       "      <th>ID</th>\n",
       "      <th>Name</th>\n",
       "      <th>Flag</th>\n",
       "      <th>Club</th>\n",
       "      <th>Wage</th>\n",
       "      <th>Height</th>\n",
       "      <th>Weight</th>\n",
       "    </tr>\n",
       "  </thead>\n",
       "  <tbody>\n",
       "    <tr>\n",
       "      <th>0</th>\n",
       "      <td>158023</td>\n",
       "      <td>L. Messi</td>\n",
       "      <td>https://cdn.sofifa.org/flags/52.png</td>\n",
       "      <td>FC Barcelona</td>\n",
       "      <td>€565K</td>\n",
       "      <td>5'7</td>\n",
       "      <td>159lbs</td>\n",
       "    </tr>\n",
       "    <tr>\n",
       "      <th>1</th>\n",
       "      <td>20801</td>\n",
       "      <td>Cristiano Ronaldo</td>\n",
       "      <td>https://cdn.sofifa.org/flags/38.png</td>\n",
       "      <td>Juventus</td>\n",
       "      <td>€405K</td>\n",
       "      <td>6'2</td>\n",
       "      <td>183lbs</td>\n",
       "    </tr>\n",
       "  </tbody>\n",
       "</table>\n",
       "</div>"
      ],
      "text/plain": [
       "       ID               Name                                 Flag  \\\n",
       "0  158023           L. Messi  https://cdn.sofifa.org/flags/52.png   \n",
       "1   20801  Cristiano Ronaldo  https://cdn.sofifa.org/flags/38.png   \n",
       "\n",
       "           Club   Wage Height  Weight  \n",
       "0  FC Barcelona  €565K    5'7  159lbs  \n",
       "1      Juventus  €405K    6'2  183lbs  "
      ]
     },
     "execution_count": 34,
     "metadata": {},
     "output_type": "execute_result"
    }
   ],
   "source": [
    "df.head(2)"
   ]
  },
  {
   "cell_type": "code",
   "execution_count": 35,
   "metadata": {},
   "outputs": [],
   "source": [
    "df['Weight'] = df['Weight'].apply(lambda x: str(x)[0:-3])\n",
    "df['Weight'] = pd.to_numeric(df['Weight'])"
   ]
  },
  {
   "cell_type": "code",
   "execution_count": 45,
   "metadata": {},
   "outputs": [],
   "source": [
    "df['Wage'] = df['Wage'].apply(lambda x: x[1:-1])\n",
    "df['Wage'] = pd.to_numeric(df['Wage'])"
   ]
  },
  {
   "cell_type": "code",
   "execution_count": 49,
   "metadata": {},
   "outputs": [],
   "source": [
    "df['Wage'] = df['Wage'] * 1000"
   ]
  },
  {
   "cell_type": "code",
   "execution_count": 53,
   "metadata": {},
   "outputs": [],
   "source": [
    "df['FlagId'] = df['Flag'].str[-6:-4]\n"
   ]
  },
  {
   "cell_type": "code",
   "execution_count": 57,
   "metadata": {},
   "outputs": [],
   "source": [
    "df['FlagId'] = df['FlagId'].str.replace(\"/\",\"\")"
   ]
  },
  {
   "cell_type": "code",
   "execution_count": 59,
   "metadata": {},
   "outputs": [],
   "source": [
    "df['FlagId'] = pd.to_numeric(df['FlagId'])"
   ]
  },
  {
   "cell_type": "code",
   "execution_count": 61,
   "metadata": {},
   "outputs": [],
   "source": [
    "df['FlagId'] = df['FlagId'].astype(int)"
   ]
  },
  {
   "cell_type": "code",
   "execution_count": 62,
   "metadata": {},
   "outputs": [
    {
     "name": "stdout",
     "output_type": "stream",
     "text": [
      "<class 'pandas.core.frame.DataFrame'>\n",
      "RangeIndex: 18207 entries, 0 to 18206\n",
      "Data columns (total 8 columns):\n",
      "ID        18207 non-null int64\n",
      "Name      18207 non-null object\n",
      "Flag      18207 non-null object\n",
      "Club      17966 non-null object\n",
      "Wage      17966 non-null float64\n",
      "Height    18159 non-null object\n",
      "Weight    18159 non-null float64\n",
      "FlagId    18207 non-null int64\n",
      "dtypes: float64(2), int64(2), object(4)\n",
      "memory usage: 1.1+ MB\n"
     ]
    }
   ],
   "source": [
    "df.info()"
   ]
  },
  {
   "cell_type": "code",
   "execution_count": 66,
   "metadata": {},
   "outputs": [],
   "source": [
    "df.drop('Flag',axis=1,inplace=True)"
   ]
  },
  {
   "cell_type": "code",
   "execution_count": 67,
   "metadata": {},
   "outputs": [
    {
     "data": {
      "text/html": [
       "<div>\n",
       "<style scoped>\n",
       "    .dataframe tbody tr th:only-of-type {\n",
       "        vertical-align: middle;\n",
       "    }\n",
       "\n",
       "    .dataframe tbody tr th {\n",
       "        vertical-align: top;\n",
       "    }\n",
       "\n",
       "    .dataframe thead th {\n",
       "        text-align: right;\n",
       "    }\n",
       "</style>\n",
       "<table border=\"1\" class=\"dataframe\">\n",
       "  <thead>\n",
       "    <tr style=\"text-align: right;\">\n",
       "      <th></th>\n",
       "      <th>ID</th>\n",
       "      <th>Name</th>\n",
       "      <th>Club</th>\n",
       "      <th>Wage</th>\n",
       "      <th>Height</th>\n",
       "      <th>Weight</th>\n",
       "      <th>FlagId</th>\n",
       "    </tr>\n",
       "  </thead>\n",
       "  <tbody>\n",
       "    <tr>\n",
       "      <th>0</th>\n",
       "      <td>158023</td>\n",
       "      <td>L. Messi</td>\n",
       "      <td>FC Barcelona</td>\n",
       "      <td>565000.0</td>\n",
       "      <td>5'7</td>\n",
       "      <td>159.0</td>\n",
       "      <td>52</td>\n",
       "    </tr>\n",
       "    <tr>\n",
       "      <th>1</th>\n",
       "      <td>20801</td>\n",
       "      <td>Cristiano Ronaldo</td>\n",
       "      <td>Juventus</td>\n",
       "      <td>405000.0</td>\n",
       "      <td>6'2</td>\n",
       "      <td>183.0</td>\n",
       "      <td>38</td>\n",
       "    </tr>\n",
       "    <tr>\n",
       "      <th>2</th>\n",
       "      <td>190871</td>\n",
       "      <td>Neymar Jr</td>\n",
       "      <td>Paris Saint-Germain</td>\n",
       "      <td>290000.0</td>\n",
       "      <td>5'9</td>\n",
       "      <td>150.0</td>\n",
       "      <td>54</td>\n",
       "    </tr>\n",
       "    <tr>\n",
       "      <th>3</th>\n",
       "      <td>193080</td>\n",
       "      <td>De Gea</td>\n",
       "      <td>Manchester United</td>\n",
       "      <td>260000.0</td>\n",
       "      <td>6'4</td>\n",
       "      <td>168.0</td>\n",
       "      <td>45</td>\n",
       "    </tr>\n",
       "    <tr>\n",
       "      <th>4</th>\n",
       "      <td>192985</td>\n",
       "      <td>K. De Bruyne</td>\n",
       "      <td>Manchester City</td>\n",
       "      <td>355000.0</td>\n",
       "      <td>5'11</td>\n",
       "      <td>154.0</td>\n",
       "      <td>7</td>\n",
       "    </tr>\n",
       "    <tr>\n",
       "      <th>...</th>\n",
       "      <td>...</td>\n",
       "      <td>...</td>\n",
       "      <td>...</td>\n",
       "      <td>...</td>\n",
       "      <td>...</td>\n",
       "      <td>...</td>\n",
       "      <td>...</td>\n",
       "    </tr>\n",
       "    <tr>\n",
       "      <th>18202</th>\n",
       "      <td>238813</td>\n",
       "      <td>J. Lundstram</td>\n",
       "      <td>Crewe Alexandra</td>\n",
       "      <td>1000.0</td>\n",
       "      <td>5'9</td>\n",
       "      <td>134.0</td>\n",
       "      <td>14</td>\n",
       "    </tr>\n",
       "    <tr>\n",
       "      <th>18203</th>\n",
       "      <td>243165</td>\n",
       "      <td>N. Christoffersson</td>\n",
       "      <td>Trelleborgs FF</td>\n",
       "      <td>1000.0</td>\n",
       "      <td>6'3</td>\n",
       "      <td>170.0</td>\n",
       "      <td>46</td>\n",
       "    </tr>\n",
       "    <tr>\n",
       "      <th>18204</th>\n",
       "      <td>241638</td>\n",
       "      <td>B. Worman</td>\n",
       "      <td>Cambridge United</td>\n",
       "      <td>1000.0</td>\n",
       "      <td>5'8</td>\n",
       "      <td>148.0</td>\n",
       "      <td>14</td>\n",
       "    </tr>\n",
       "    <tr>\n",
       "      <th>18205</th>\n",
       "      <td>246268</td>\n",
       "      <td>D. Walker-Rice</td>\n",
       "      <td>Tranmere Rovers</td>\n",
       "      <td>1000.0</td>\n",
       "      <td>5'10</td>\n",
       "      <td>154.0</td>\n",
       "      <td>14</td>\n",
       "    </tr>\n",
       "    <tr>\n",
       "      <th>18206</th>\n",
       "      <td>246269</td>\n",
       "      <td>G. Nugent</td>\n",
       "      <td>Tranmere Rovers</td>\n",
       "      <td>1000.0</td>\n",
       "      <td>5'10</td>\n",
       "      <td>176.0</td>\n",
       "      <td>14</td>\n",
       "    </tr>\n",
       "  </tbody>\n",
       "</table>\n",
       "<p>18207 rows × 7 columns</p>\n",
       "</div>"
      ],
      "text/plain": [
       "           ID                Name                 Club      Wage Height  \\\n",
       "0      158023            L. Messi         FC Barcelona  565000.0    5'7   \n",
       "1       20801   Cristiano Ronaldo             Juventus  405000.0    6'2   \n",
       "2      190871           Neymar Jr  Paris Saint-Germain  290000.0    5'9   \n",
       "3      193080              De Gea    Manchester United  260000.0    6'4   \n",
       "4      192985        K. De Bruyne      Manchester City  355000.0   5'11   \n",
       "...       ...                 ...                  ...       ...    ...   \n",
       "18202  238813        J. Lundstram      Crewe Alexandra    1000.0    5'9   \n",
       "18203  243165  N. Christoffersson       Trelleborgs FF    1000.0    6'3   \n",
       "18204  241638           B. Worman     Cambridge United    1000.0    5'8   \n",
       "18205  246268      D. Walker-Rice      Tranmere Rovers    1000.0   5'10   \n",
       "18206  246269           G. Nugent      Tranmere Rovers    1000.0   5'10   \n",
       "\n",
       "       Weight  FlagId  \n",
       "0       159.0      52  \n",
       "1       183.0      38  \n",
       "2       150.0      54  \n",
       "3       168.0      45  \n",
       "4       154.0       7  \n",
       "...       ...     ...  \n",
       "18202   134.0      14  \n",
       "18203   170.0      46  \n",
       "18204   148.0      14  \n",
       "18205   154.0      14  \n",
       "18206   176.0      14  \n",
       "\n",
       "[18207 rows x 7 columns]"
      ]
     },
     "execution_count": 67,
     "metadata": {},
     "output_type": "execute_result"
    }
   ],
   "source": [
    "df"
   ]
  },
  {
   "cell_type": "code",
   "execution_count": 68,
   "metadata": {},
   "outputs": [],
   "source": [
    "df.dropna(inplace=True)"
   ]
  },
  {
   "cell_type": "code",
   "execution_count": 69,
   "metadata": {},
   "outputs": [
    {
     "data": {
      "text/html": [
       "<div>\n",
       "<style scoped>\n",
       "    .dataframe tbody tr th:only-of-type {\n",
       "        vertical-align: middle;\n",
       "    }\n",
       "\n",
       "    .dataframe tbody tr th {\n",
       "        vertical-align: top;\n",
       "    }\n",
       "\n",
       "    .dataframe thead th {\n",
       "        text-align: right;\n",
       "    }\n",
       "</style>\n",
       "<table border=\"1\" class=\"dataframe\">\n",
       "  <thead>\n",
       "    <tr style=\"text-align: right;\">\n",
       "      <th></th>\n",
       "      <th>ID</th>\n",
       "      <th>Name</th>\n",
       "      <th>Club</th>\n",
       "      <th>Wage</th>\n",
       "      <th>Height</th>\n",
       "      <th>Weight</th>\n",
       "      <th>FlagId</th>\n",
       "    </tr>\n",
       "  </thead>\n",
       "  <tbody>\n",
       "    <tr>\n",
       "      <th>0</th>\n",
       "      <td>158023</td>\n",
       "      <td>L. Messi</td>\n",
       "      <td>FC Barcelona</td>\n",
       "      <td>565000.0</td>\n",
       "      <td>5'7</td>\n",
       "      <td>159.0</td>\n",
       "      <td>52</td>\n",
       "    </tr>\n",
       "    <tr>\n",
       "      <th>1</th>\n",
       "      <td>20801</td>\n",
       "      <td>Cristiano Ronaldo</td>\n",
       "      <td>Juventus</td>\n",
       "      <td>405000.0</td>\n",
       "      <td>6'2</td>\n",
       "      <td>183.0</td>\n",
       "      <td>38</td>\n",
       "    </tr>\n",
       "    <tr>\n",
       "      <th>2</th>\n",
       "      <td>190871</td>\n",
       "      <td>Neymar Jr</td>\n",
       "      <td>Paris Saint-Germain</td>\n",
       "      <td>290000.0</td>\n",
       "      <td>5'9</td>\n",
       "      <td>150.0</td>\n",
       "      <td>54</td>\n",
       "    </tr>\n",
       "    <tr>\n",
       "      <th>3</th>\n",
       "      <td>193080</td>\n",
       "      <td>De Gea</td>\n",
       "      <td>Manchester United</td>\n",
       "      <td>260000.0</td>\n",
       "      <td>6'4</td>\n",
       "      <td>168.0</td>\n",
       "      <td>45</td>\n",
       "    </tr>\n",
       "    <tr>\n",
       "      <th>4</th>\n",
       "      <td>192985</td>\n",
       "      <td>K. De Bruyne</td>\n",
       "      <td>Manchester City</td>\n",
       "      <td>355000.0</td>\n",
       "      <td>5'11</td>\n",
       "      <td>154.0</td>\n",
       "      <td>7</td>\n",
       "    </tr>\n",
       "    <tr>\n",
       "      <th>...</th>\n",
       "      <td>...</td>\n",
       "      <td>...</td>\n",
       "      <td>...</td>\n",
       "      <td>...</td>\n",
       "      <td>...</td>\n",
       "      <td>...</td>\n",
       "      <td>...</td>\n",
       "    </tr>\n",
       "    <tr>\n",
       "      <th>18202</th>\n",
       "      <td>238813</td>\n",
       "      <td>J. Lundstram</td>\n",
       "      <td>Crewe Alexandra</td>\n",
       "      <td>1000.0</td>\n",
       "      <td>5'9</td>\n",
       "      <td>134.0</td>\n",
       "      <td>14</td>\n",
       "    </tr>\n",
       "    <tr>\n",
       "      <th>18203</th>\n",
       "      <td>243165</td>\n",
       "      <td>N. Christoffersson</td>\n",
       "      <td>Trelleborgs FF</td>\n",
       "      <td>1000.0</td>\n",
       "      <td>6'3</td>\n",
       "      <td>170.0</td>\n",
       "      <td>46</td>\n",
       "    </tr>\n",
       "    <tr>\n",
       "      <th>18204</th>\n",
       "      <td>241638</td>\n",
       "      <td>B. Worman</td>\n",
       "      <td>Cambridge United</td>\n",
       "      <td>1000.0</td>\n",
       "      <td>5'8</td>\n",
       "      <td>148.0</td>\n",
       "      <td>14</td>\n",
       "    </tr>\n",
       "    <tr>\n",
       "      <th>18205</th>\n",
       "      <td>246268</td>\n",
       "      <td>D. Walker-Rice</td>\n",
       "      <td>Tranmere Rovers</td>\n",
       "      <td>1000.0</td>\n",
       "      <td>5'10</td>\n",
       "      <td>154.0</td>\n",
       "      <td>14</td>\n",
       "    </tr>\n",
       "    <tr>\n",
       "      <th>18206</th>\n",
       "      <td>246269</td>\n",
       "      <td>G. Nugent</td>\n",
       "      <td>Tranmere Rovers</td>\n",
       "      <td>1000.0</td>\n",
       "      <td>5'10</td>\n",
       "      <td>176.0</td>\n",
       "      <td>14</td>\n",
       "    </tr>\n",
       "  </tbody>\n",
       "</table>\n",
       "<p>17918 rows × 7 columns</p>\n",
       "</div>"
      ],
      "text/plain": [
       "           ID                Name                 Club      Wage Height  \\\n",
       "0      158023            L. Messi         FC Barcelona  565000.0    5'7   \n",
       "1       20801   Cristiano Ronaldo             Juventus  405000.0    6'2   \n",
       "2      190871           Neymar Jr  Paris Saint-Germain  290000.0    5'9   \n",
       "3      193080              De Gea    Manchester United  260000.0    6'4   \n",
       "4      192985        K. De Bruyne      Manchester City  355000.0   5'11   \n",
       "...       ...                 ...                  ...       ...    ...   \n",
       "18202  238813        J. Lundstram      Crewe Alexandra    1000.0    5'9   \n",
       "18203  243165  N. Christoffersson       Trelleborgs FF    1000.0    6'3   \n",
       "18204  241638           B. Worman     Cambridge United    1000.0    5'8   \n",
       "18205  246268      D. Walker-Rice      Tranmere Rovers    1000.0   5'10   \n",
       "18206  246269           G. Nugent      Tranmere Rovers    1000.0   5'10   \n",
       "\n",
       "       Weight  FlagId  \n",
       "0       159.0      52  \n",
       "1       183.0      38  \n",
       "2       150.0      54  \n",
       "3       168.0      45  \n",
       "4       154.0       7  \n",
       "...       ...     ...  \n",
       "18202   134.0      14  \n",
       "18203   170.0      46  \n",
       "18204   148.0      14  \n",
       "18205   154.0      14  \n",
       "18206   176.0      14  \n",
       "\n",
       "[17918 rows x 7 columns]"
      ]
     },
     "execution_count": 69,
     "metadata": {},
     "output_type": "execute_result"
    }
   ],
   "source": [
    "df"
   ]
  },
  {
   "cell_type": "code",
   "execution_count": 70,
   "metadata": {},
   "outputs": [
    {
     "name": "stdout",
     "output_type": "stream",
     "text": [
      "<class 'pandas.core.frame.DataFrame'>\n",
      "Int64Index: 17918 entries, 0 to 18206\n",
      "Data columns (total 7 columns):\n",
      "ID        17918 non-null int64\n",
      "Name      17918 non-null object\n",
      "Club      17918 non-null object\n",
      "Wage      17918 non-null float64\n",
      "Height    17918 non-null object\n",
      "Weight    17918 non-null float64\n",
      "FlagId    17918 non-null int64\n",
      "dtypes: float64(2), int64(2), object(3)\n",
      "memory usage: 1.1+ MB\n"
     ]
    }
   ],
   "source": [
    "df.info()"
   ]
  },
  {
   "cell_type": "code",
   "execution_count": null,
   "metadata": {},
   "outputs": [],
   "source": [
    "%matplotlib inline\n",
    "sns.countplot(x='Club',data=df)\n",
    "plt.show()"
   ]
  },
  {
   "cell_type": "code",
   "execution_count": null,
   "metadata": {},
   "outputs": [],
   "source": []
  }
 ],
 "metadata": {
  "kernelspec": {
   "display_name": "Python 3",
   "language": "python",
   "name": "python3"
  },
  "language_info": {
   "codemirror_mode": {
    "name": "ipython",
    "version": 3
   },
   "file_extension": ".py",
   "mimetype": "text/x-python",
   "name": "python",
   "nbconvert_exporter": "python",
   "pygments_lexer": "ipython3",
   "version": "3.7.6"
  }
 },
 "nbformat": 4,
 "nbformat_minor": 4
}
