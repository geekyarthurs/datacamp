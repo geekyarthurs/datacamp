{
 "cells": [
  {
   "cell_type": "code",
   "execution_count": 1,
   "metadata": {},
   "outputs": [],
   "source": [
    "import numpy as np\n",
    "import pandas as pd\n",
    "import matplotlib.pyplot as plt\n",
    "import seaborn as sns\n",
    "sns.set()\n"
   ]
  },
  {
   "cell_type": "code",
   "execution_count": 30,
   "metadata": {},
   "outputs": [],
   "source": [
    "df = pd.read_csv(\"data.csv\",index_col='ID')"
   ]
  },
  {
   "cell_type": "code",
   "execution_count": 31,
   "metadata": {},
   "outputs": [],
   "source": [
    "df = df[['Name','Flag','Club','Wage','Height','Weight']]"
   ]
  },
  {
   "cell_type": "code",
   "execution_count": 32,
   "metadata": {},
   "outputs": [],
   "source": [
    "df = df.reset_index()"
   ]
  },
  {
   "cell_type": "code",
   "execution_count": 33,
   "metadata": {},
   "outputs": [
    {
     "name": "stdout",
     "output_type": "stream",
     "text": [
      "<class 'pandas.core.frame.DataFrame'>\n",
      "RangeIndex: 18207 entries, 0 to 18206\n",
      "Data columns (total 7 columns):\n",
      "ID        18207 non-null int64\n",
      "Name      18207 non-null object\n",
      "Flag      18207 non-null object\n",
      "Club      17966 non-null object\n",
      "Wage      18207 non-null object\n",
      "Height    18159 non-null object\n",
      "Weight    18159 non-null object\n",
      "dtypes: int64(1), object(6)\n",
      "memory usage: 995.8+ KB\n"
     ]
    }
   ],
   "source": [
    "df.info()"
   ]
  },
  {
   "cell_type": "code",
   "execution_count": 34,
   "metadata": {},
   "outputs": [
    {
     "data": {
      "text/html": [
       "<div>\n",
       "<style scoped>\n",
       "    .dataframe tbody tr th:only-of-type {\n",
       "        vertical-align: middle;\n",
       "    }\n",
       "\n",
       "    .dataframe tbody tr th {\n",
       "        vertical-align: top;\n",
       "    }\n",
       "\n",
       "    .dataframe thead th {\n",
       "        text-align: right;\n",
       "    }\n",
       "</style>\n",
       "<table border=\"1\" class=\"dataframe\">\n",
       "  <thead>\n",
       "    <tr style=\"text-align: right;\">\n",
       "      <th></th>\n",
       "      <th>ID</th>\n",
       "      <th>Name</th>\n",
       "      <th>Flag</th>\n",
       "      <th>Club</th>\n",
       "      <th>Wage</th>\n",
       "      <th>Height</th>\n",
       "      <th>Weight</th>\n",
       "    </tr>\n",
       "  </thead>\n",
       "  <tbody>\n",
       "    <tr>\n",
       "      <th>0</th>\n",
       "      <td>158023</td>\n",
       "      <td>L. Messi</td>\n",
       "      <td>https://cdn.sofifa.org/flags/52.png</td>\n",
       "      <td>FC Barcelona</td>\n",
       "      <td>€565K</td>\n",
       "      <td>5'7</td>\n",
       "      <td>159lbs</td>\n",
       "    </tr>\n",
       "    <tr>\n",
       "      <th>1</th>\n",
       "      <td>20801</td>\n",
       "      <td>Cristiano Ronaldo</td>\n",
       "      <td>https://cdn.sofifa.org/flags/38.png</td>\n",
       "      <td>Juventus</td>\n",
       "      <td>€405K</td>\n",
       "      <td>6'2</td>\n",
       "      <td>183lbs</td>\n",
       "    </tr>\n",
       "  </tbody>\n",
       "</table>\n",
       "</div>"
      ],
      "text/plain": [
       "       ID               Name                                 Flag  \\\n",
       "0  158023           L. Messi  https://cdn.sofifa.org/flags/52.png   \n",
       "1   20801  Cristiano Ronaldo  https://cdn.sofifa.org/flags/38.png   \n",
       "\n",
       "           Club   Wage Height  Weight  \n",
       "0  FC Barcelona  €565K    5'7  159lbs  \n",
       "1      Juventus  €405K    6'2  183lbs  "
      ]
     },
     "execution_count": 34,
     "metadata": {},
     "output_type": "execute_result"
    }
   ],
   "source": [
    "df.head(2)"
   ]
  },
  {
   "cell_type": "code",
   "execution_count": 35,
   "metadata": {},
   "outputs": [],
   "source": [
    "df['Weight'] = df['Weight'].apply(lambda x: str(x)[0:-3])\n",
    "df['Weight'] = pd.to_numeric(df['Weight'])"
   ]
  },
  {
   "cell_type": "code",
   "execution_count": 45,
   "metadata": {},
   "outputs": [],
   "source": [
    "df['Wage'] = df['Wage'].apply(lambda x: x[1:-1])\n",
    "df['Wage'] = pd.to_numeric(df['Wage'])"
   ]
  },
  {
   "cell_type": "code",
   "execution_count": 49,
   "metadata": {},
   "outputs": [],
   "source": [
    "df['Wage'] = df['Wage'] * 1000"
   ]
  },
  {
   "cell_type": "code",
   "execution_count": 53,
   "metadata": {},
   "outputs": [],
   "source": [
    "df['FlagId'] = df['Flag'].str[-6:-4]\n"
   ]
  },
  {
   "cell_type": "code",
   "execution_count": 57,
   "metadata": {},
   "outputs": [],
   "source": [
    "df['FlagId'] = df['FlagId'].str.replace(\"/\",\"\")"
   ]
  },
  {
   "cell_type": "code",
   "execution_count": 59,
   "metadata": {},
   "outputs": [],
   "source": [
    "df['FlagId'] = pd.to_numeric(df['FlagId'])"
   ]
  },
  {
   "cell_type": "code",
   "execution_count": 61,
   "metadata": {},
   "outputs": [],
   "source": [
    "df['FlagId'] = df['FlagId'].astype(int)"
   ]
  },
  {
   "cell_type": "code",
   "execution_count": 62,
   "metadata": {},
   "outputs": [
    {
     "name": "stdout",
     "output_type": "stream",
     "text": [
      "<class 'pandas.core.frame.DataFrame'>\n",
      "RangeIndex: 18207 entries, 0 to 18206\n",
      "Data columns (total 8 columns):\n",
      "ID        18207 non-null int64\n",
      "Name      18207 non-null object\n",
      "Flag      18207 non-null object\n",
      "Club      17966 non-null object\n",
      "Wage      17966 non-null float64\n",
      "Height    18159 non-null object\n",
      "Weight    18159 non-null float64\n",
      "FlagId    18207 non-null int64\n",
      "dtypes: float64(2), int64(2), object(4)\n",
      "memory usage: 1.1+ MB\n"
     ]
    }
   ],
   "source": [
    "df.info()"
   ]
  },
  {
   "cell_type": "code",
   "execution_count": 66,
   "metadata": {},
   "outputs": [],
   "source": [
    "df.drop('Flag',axis=1,inplace=True)"
   ]
  },
  {
   "cell_type": "code",
   "execution_count": 67,
   "metadata": {},
   "outputs": [
    {
     "data": {
      "text/html": [
       "<div>\n",
       "<style scoped>\n",
       "    .dataframe tbody tr th:only-of-type {\n",
       "        vertical-align: middle;\n",
       "    }\n",
       "\n",
       "    .dataframe tbody tr th {\n",
       "        vertical-align: top;\n",
       "    }\n",
       "\n",
       "    .dataframe thead th {\n",
       "        text-align: right;\n",
       "    }\n",
       "</style>\n",
       "<table border=\"1\" class=\"dataframe\">\n",
       "  <thead>\n",
       "    <tr style=\"text-align: right;\">\n",
       "      <th></th>\n",
       "      <th>ID</th>\n",
       "      <th>Name</th>\n",
       "      <th>Club</th>\n",
       "      <th>Wage</th>\n",
       "      <th>Height</th>\n",
       "      <th>Weight</th>\n",
       "      <th>FlagId</th>\n",
       "    </tr>\n",
       "  </thead>\n",
       "  <tbody>\n",
       "    <tr>\n",
       "      <th>0</th>\n",
       "      <td>158023</td>\n",
       "      <td>L. Messi</td>\n",
       "      <td>FC Barcelona</td>\n",
       "      <td>565000.0</td>\n",
       "      <td>5'7</td>\n",
       "      <td>159.0</td>\n",
       "      <td>52</td>\n",
       "    </tr>\n",
       "    <tr>\n",
       "      <th>1</th>\n",
       "      <td>20801</td>\n",
       "      <td>Cristiano Ronaldo</td>\n",
       "      <td>Juventus</td>\n",
       "      <td>405000.0</td>\n",
       "      <td>6'2</td>\n",
       "      <td>183.0</td>\n",
       "      <td>38</td>\n",
       "    </tr>\n",
       "    <tr>\n",
       "      <th>2</th>\n",
       "      <td>190871</td>\n",
       "      <td>Neymar Jr</td>\n",
       "      <td>Paris Saint-Germain</td>\n",
       "      <td>290000.0</td>\n",
       "      <td>5'9</td>\n",
       "      <td>150.0</td>\n",
       "      <td>54</td>\n",
       "    </tr>\n",
       "    <tr>\n",
       "      <th>3</th>\n",
       "      <td>193080</td>\n",
       "      <td>De Gea</td>\n",
       "      <td>Manchester United</td>\n",
       "      <td>260000.0</td>\n",
       "      <td>6'4</td>\n",
       "      <td>168.0</td>\n",
       "      <td>45</td>\n",
       "    </tr>\n",
       "    <tr>\n",
       "      <th>4</th>\n",
       "      <td>192985</td>\n",
       "      <td>K. De Bruyne</td>\n",
       "      <td>Manchester City</td>\n",
       "      <td>355000.0</td>\n",
       "      <td>5'11</td>\n",
       "      <td>154.0</td>\n",
       "      <td>7</td>\n",
       "    </tr>\n",
       "    <tr>\n",
       "      <th>...</th>\n",
       "      <td>...</td>\n",
       "      <td>...</td>\n",
       "      <td>...</td>\n",
       "      <td>...</td>\n",
       "      <td>...</td>\n",
       "      <td>...</td>\n",
       "      <td>...</td>\n",
       "    </tr>\n",
       "    <tr>\n",
       "      <th>18202</th>\n",
       "      <td>238813</td>\n",
       "      <td>J. Lundstram</td>\n",
       "      <td>Crewe Alexandra</td>\n",
       "      <td>1000.0</td>\n",
       "      <td>5'9</td>\n",
       "      <td>134.0</td>\n",
       "      <td>14</td>\n",
       "    </tr>\n",
       "    <tr>\n",
       "      <th>18203</th>\n",
       "      <td>243165</td>\n",
       "      <td>N. Christoffersson</td>\n",
       "      <td>Trelleborgs FF</td>\n",
       "      <td>1000.0</td>\n",
       "      <td>6'3</td>\n",
       "      <td>170.0</td>\n",
       "      <td>46</td>\n",
       "    </tr>\n",
       "    <tr>\n",
       "      <th>18204</th>\n",
       "      <td>241638</td>\n",
       "      <td>B. Worman</td>\n",
       "      <td>Cambridge United</td>\n",
       "      <td>1000.0</td>\n",
       "      <td>5'8</td>\n",
       "      <td>148.0</td>\n",
       "      <td>14</td>\n",
       "    </tr>\n",
       "    <tr>\n",
       "      <th>18205</th>\n",
       "      <td>246268</td>\n",
       "      <td>D. Walker-Rice</td>\n",
       "      <td>Tranmere Rovers</td>\n",
       "      <td>1000.0</td>\n",
       "      <td>5'10</td>\n",
       "      <td>154.0</td>\n",
       "      <td>14</td>\n",
       "    </tr>\n",
       "    <tr>\n",
       "      <th>18206</th>\n",
       "      <td>246269</td>\n",
       "      <td>G. Nugent</td>\n",
       "      <td>Tranmere Rovers</td>\n",
       "      <td>1000.0</td>\n",
       "      <td>5'10</td>\n",
       "      <td>176.0</td>\n",
       "      <td>14</td>\n",
       "    </tr>\n",
       "  </tbody>\n",
       "</table>\n",
       "<p>18207 rows × 7 columns</p>\n",
       "</div>"
      ],
      "text/plain": [
       "           ID                Name                 Club      Wage Height  \\\n",
       "0      158023            L. Messi         FC Barcelona  565000.0    5'7   \n",
       "1       20801   Cristiano Ronaldo             Juventus  405000.0    6'2   \n",
       "2      190871           Neymar Jr  Paris Saint-Germain  290000.0    5'9   \n",
       "3      193080              De Gea    Manchester United  260000.0    6'4   \n",
       "4      192985        K. De Bruyne      Manchester City  355000.0   5'11   \n",
       "...       ...                 ...                  ...       ...    ...   \n",
       "18202  238813        J. Lundstram      Crewe Alexandra    1000.0    5'9   \n",
       "18203  243165  N. Christoffersson       Trelleborgs FF    1000.0    6'3   \n",
       "18204  241638           B. Worman     Cambridge United    1000.0    5'8   \n",
       "18205  246268      D. Walker-Rice      Tranmere Rovers    1000.0   5'10   \n",
       "18206  246269           G. Nugent      Tranmere Rovers    1000.0   5'10   \n",
       "\n",
       "       Weight  FlagId  \n",
       "0       159.0      52  \n",
       "1       183.0      38  \n",
       "2       150.0      54  \n",
       "3       168.0      45  \n",
       "4       154.0       7  \n",
       "...       ...     ...  \n",
       "18202   134.0      14  \n",
       "18203   170.0      46  \n",
       "18204   148.0      14  \n",
       "18205   154.0      14  \n",
       "18206   176.0      14  \n",
       "\n",
       "[18207 rows x 7 columns]"
      ]
     },
     "execution_count": 67,
     "metadata": {},
     "output_type": "execute_result"
    }
   ],
   "source": [
    "df"
   ]
  },
  {
   "cell_type": "code",
   "execution_count": 68,
   "metadata": {},
   "outputs": [],
   "source": [
    "df.dropna(inplace=True)"
   ]
  },
  {
   "cell_type": "code",
   "execution_count": 69,
   "metadata": {},
   "outputs": [
    {
     "data": {
      "text/html": [
       "<div>\n",
       "<style scoped>\n",
       "    .dataframe tbody tr th:only-of-type {\n",
       "        vertical-align: middle;\n",
       "    }\n",
       "\n",
       "    .dataframe tbody tr th {\n",
       "        vertical-align: top;\n",
       "    }\n",
       "\n",
       "    .dataframe thead th {\n",
       "        text-align: right;\n",
       "    }\n",
       "</style>\n",
       "<table border=\"1\" class=\"dataframe\">\n",
       "  <thead>\n",
       "    <tr style=\"text-align: right;\">\n",
       "      <th></th>\n",
       "      <th>ID</th>\n",
       "      <th>Name</th>\n",
       "      <th>Club</th>\n",
       "      <th>Wage</th>\n",
       "      <th>Height</th>\n",
       "      <th>Weight</th>\n",
       "      <th>FlagId</th>\n",
       "    </tr>\n",
       "  </thead>\n",
       "  <tbody>\n",
       "    <tr>\n",
       "      <th>0</th>\n",
       "      <td>158023</td>\n",
       "      <td>L. Messi</td>\n",
       "      <td>FC Barcelona</td>\n",
       "      <td>565000.0</td>\n",
       "      <td>5'7</td>\n",
       "      <td>159.0</td>\n",
       "      <td>52</td>\n",
       "    </tr>\n",
       "    <tr>\n",
       "      <th>1</th>\n",
       "      <td>20801</td>\n",
       "      <td>Cristiano Ronaldo</td>\n",
       "      <td>Juventus</td>\n",
       "      <td>405000.0</td>\n",
       "      <td>6'2</td>\n",
       "      <td>183.0</td>\n",
       "      <td>38</td>\n",
       "    </tr>\n",
       "    <tr>\n",
       "      <th>2</th>\n",
       "      <td>190871</td>\n",
       "      <td>Neymar Jr</td>\n",
       "      <td>Paris Saint-Germain</td>\n",
       "      <td>290000.0</td>\n",
       "      <td>5'9</td>\n",
       "      <td>150.0</td>\n",
       "      <td>54</td>\n",
       "    </tr>\n",
       "    <tr>\n",
       "      <th>3</th>\n",
       "      <td>193080</td>\n",
       "      <td>De Gea</td>\n",
       "      <td>Manchester United</td>\n",
       "      <td>260000.0</td>\n",
       "      <td>6'4</td>\n",
       "      <td>168.0</td>\n",
       "      <td>45</td>\n",
       "    </tr>\n",
       "    <tr>\n",
       "      <th>4</th>\n",
       "      <td>192985</td>\n",
       "      <td>K. De Bruyne</td>\n",
       "      <td>Manchester City</td>\n",
       "      <td>355000.0</td>\n",
       "      <td>5'11</td>\n",
       "      <td>154.0</td>\n",
       "      <td>7</td>\n",
       "    </tr>\n",
       "    <tr>\n",
       "      <th>...</th>\n",
       "      <td>...</td>\n",
       "      <td>...</td>\n",
       "      <td>...</td>\n",
       "      <td>...</td>\n",
       "      <td>...</td>\n",
       "      <td>...</td>\n",
       "      <td>...</td>\n",
       "    </tr>\n",
       "    <tr>\n",
       "      <th>18202</th>\n",
       "      <td>238813</td>\n",
       "      <td>J. Lundstram</td>\n",
       "      <td>Crewe Alexandra</td>\n",
       "      <td>1000.0</td>\n",
       "      <td>5'9</td>\n",
       "      <td>134.0</td>\n",
       "      <td>14</td>\n",
       "    </tr>\n",
       "    <tr>\n",
       "      <th>18203</th>\n",
       "      <td>243165</td>\n",
       "      <td>N. Christoffersson</td>\n",
       "      <td>Trelleborgs FF</td>\n",
       "      <td>1000.0</td>\n",
       "      <td>6'3</td>\n",
       "      <td>170.0</td>\n",
       "      <td>46</td>\n",
       "    </tr>\n",
       "    <tr>\n",
       "      <th>18204</th>\n",
       "      <td>241638</td>\n",
       "      <td>B. Worman</td>\n",
       "      <td>Cambridge United</td>\n",
       "      <td>1000.0</td>\n",
       "      <td>5'8</td>\n",
       "      <td>148.0</td>\n",
       "      <td>14</td>\n",
       "    </tr>\n",
       "    <tr>\n",
       "      <th>18205</th>\n",
       "      <td>246268</td>\n",
       "      <td>D. Walker-Rice</td>\n",
       "      <td>Tranmere Rovers</td>\n",
       "      <td>1000.0</td>\n",
       "      <td>5'10</td>\n",
       "      <td>154.0</td>\n",
       "      <td>14</td>\n",
       "    </tr>\n",
       "    <tr>\n",
       "      <th>18206</th>\n",
       "      <td>246269</td>\n",
       "      <td>G. Nugent</td>\n",
       "      <td>Tranmere Rovers</td>\n",
       "      <td>1000.0</td>\n",
       "      <td>5'10</td>\n",
       "      <td>176.0</td>\n",
       "      <td>14</td>\n",
       "    </tr>\n",
       "  </tbody>\n",
       "</table>\n",
       "<p>17918 rows × 7 columns</p>\n",
       "</div>"
      ],
      "text/plain": [
       "           ID                Name                 Club      Wage Height  \\\n",
       "0      158023            L. Messi         FC Barcelona  565000.0    5'7   \n",
       "1       20801   Cristiano Ronaldo             Juventus  405000.0    6'2   \n",
       "2      190871           Neymar Jr  Paris Saint-Germain  290000.0    5'9   \n",
       "3      193080              De Gea    Manchester United  260000.0    6'4   \n",
       "4      192985        K. De Bruyne      Manchester City  355000.0   5'11   \n",
       "...       ...                 ...                  ...       ...    ...   \n",
       "18202  238813        J. Lundstram      Crewe Alexandra    1000.0    5'9   \n",
       "18203  243165  N. Christoffersson       Trelleborgs FF    1000.0    6'3   \n",
       "18204  241638           B. Worman     Cambridge United    1000.0    5'8   \n",
       "18205  246268      D. Walker-Rice      Tranmere Rovers    1000.0   5'10   \n",
       "18206  246269           G. Nugent      Tranmere Rovers    1000.0   5'10   \n",
       "\n",
       "       Weight  FlagId  \n",
       "0       159.0      52  \n",
       "1       183.0      38  \n",
       "2       150.0      54  \n",
       "3       168.0      45  \n",
       "4       154.0       7  \n",
       "...       ...     ...  \n",
       "18202   134.0      14  \n",
       "18203   170.0      46  \n",
       "18204   148.0      14  \n",
       "18205   154.0      14  \n",
       "18206   176.0      14  \n",
       "\n",
       "[17918 rows x 7 columns]"
      ]
     },
     "execution_count": 69,
     "metadata": {},
     "output_type": "execute_result"
    }
   ],
   "source": [
    "df"
   ]
  },
  {
   "cell_type": "code",
   "execution_count": 70,
   "metadata": {},
   "outputs": [
    {
     "name": "stdout",
     "output_type": "stream",
     "text": [
      "<class 'pandas.core.frame.DataFrame'>\n",
      "Int64Index: 17918 entries, 0 to 18206\n",
      "Data columns (total 7 columns):\n",
      "ID        17918 non-null int64\n",
      "Name      17918 non-null object\n",
      "Club      17918 non-null object\n",
      "Wage      17918 non-null float64\n",
      "Height    17918 non-null object\n",
      "Weight    17918 non-null float64\n",
      "FlagId    17918 non-null int64\n",
      "dtypes: float64(2), int64(2), object(3)\n",
      "memory usage: 1.1+ MB\n"
     ]
    }
   ],
   "source": [
    "df.info()"
   ]
  },
  {
   "cell_type": "code",
   "execution_count": 81,
   "metadata": {},
   "outputs": [],
   "source": [
    "%matplotlib inline"
   ]
  },
  {
   "cell_type": "code",
   "execution_count": 86,
   "metadata": {},
   "outputs": [
    {
     "data": {
      "text/plain": [
       "Manchester United          33\n",
       "Atlético Madrid            33\n",
       "Eintracht Frankfurt        33\n",
       "Cardiff City               33\n",
       "Wolverhampton Wanderers    33\n",
       "                           ..\n",
       "Atlético Paranaense        20\n",
       "Fluminense                 20\n",
       "Sligo Rovers               19\n",
       "Limerick FC                19\n",
       "Derry City                 18\n",
       "Name: Club, Length: 651, dtype: int64"
      ]
     },
     "execution_count": 86,
     "metadata": {},
     "output_type": "execute_result"
    }
   ],
   "source": [
    "df['Club'].value_counts()"
   ]
  },
  {
   "cell_type": "code",
   "execution_count": 96,
   "metadata": {},
   "outputs": [
    {
     "name": "stderr",
     "output_type": "stream",
     "text": [
      "'c' argument looks like a single numeric RGB or RGBA sequence, which should be avoided as value-mapping will have precedence in case its length matches with 'x' & 'y'.  Please use a 2-D array with a single row if you really want to specify the same RGB or RGBA value for all points.\n"
     ]
    },
    {
     "data": {
      "text/plain": [
       "<matplotlib.axes._subplots.AxesSubplot at 0x7f10983ac550>"
      ]
     },
     "execution_count": 96,
     "metadata": {},
     "output_type": "execute_result"
    },
    {
     "data": {
      "image/png": "[encoded data removed]",
      "text/plain": [
       "<Figure size 432x288 with 1 Axes>"
      ]
     },
     "metadata": {
      "needs_background": "light"
     },
     "output_type": "display_data"
    }
   ],
   "source": [
    "df.plot(x='Weight',y='Wage',kind='scatter')"
   ]
  },
  {
   "cell_type": "code",
   "execution_count": 97,
   "metadata": {},
   "outputs": [
    {
     "data": {
      "text/html": [
       "<div>\n",
       "<style scoped>\n",
       "    .dataframe tbody tr th:only-of-type {\n",
       "        vertical-align: middle;\n",
       "    }\n",
       "\n",
       "    .dataframe tbody tr th {\n",
       "        vertical-align: top;\n",
       "    }\n",
       "\n",
       "    .dataframe thead th {\n",
       "        text-align: right;\n",
       "    }\n",
       "</style>\n",
       "<table border=\"1\" class=\"dataframe\">\n",
       "  <thead>\n",
       "    <tr style=\"text-align: right;\">\n",
       "      <th></th>\n",
       "      <th>ID</th>\n",
       "      <th>Name</th>\n",
       "      <th>Club</th>\n",
       "      <th>Wage</th>\n",
       "      <th>Height</th>\n",
       "      <th>Weight</th>\n",
       "      <th>FlagId</th>\n",
       "    </tr>\n",
       "  </thead>\n",
       "  <tbody>\n",
       "    <tr>\n",
       "      <th>0</th>\n",
       "      <td>158023</td>\n",
       "      <td>L. Messi</td>\n",
       "      <td>FC Barcelona</td>\n",
       "      <td>565000.0</td>\n",
       "      <td>5'7</td>\n",
       "      <td>159.0</td>\n",
       "      <td>52</td>\n",
       "    </tr>\n",
       "    <tr>\n",
       "      <th>1</th>\n",
       "      <td>20801</td>\n",
       "      <td>Cristiano Ronaldo</td>\n",
       "      <td>Juventus</td>\n",
       "      <td>405000.0</td>\n",
       "      <td>6'2</td>\n",
       "      <td>183.0</td>\n",
       "      <td>38</td>\n",
       "    </tr>\n",
       "    <tr>\n",
       "      <th>2</th>\n",
       "      <td>190871</td>\n",
       "      <td>Neymar Jr</td>\n",
       "      <td>Paris Saint-Germain</td>\n",
       "      <td>290000.0</td>\n",
       "      <td>5'9</td>\n",
       "      <td>150.0</td>\n",
       "      <td>54</td>\n",
       "    </tr>\n",
       "    <tr>\n",
       "      <th>3</th>\n",
       "      <td>193080</td>\n",
       "      <td>De Gea</td>\n",
       "      <td>Manchester United</td>\n",
       "      <td>260000.0</td>\n",
       "      <td>6'4</td>\n",
       "      <td>168.0</td>\n",
       "      <td>45</td>\n",
       "    </tr>\n",
       "    <tr>\n",
       "      <th>4</th>\n",
       "      <td>192985</td>\n",
       "      <td>K. De Bruyne</td>\n",
       "      <td>Manchester City</td>\n",
       "      <td>355000.0</td>\n",
       "      <td>5'11</td>\n",
       "      <td>154.0</td>\n",
       "      <td>7</td>\n",
       "    </tr>\n",
       "    <tr>\n",
       "      <th>...</th>\n",
       "      <td>...</td>\n",
       "      <td>...</td>\n",
       "      <td>...</td>\n",
       "      <td>...</td>\n",
       "      <td>...</td>\n",
       "      <td>...</td>\n",
       "      <td>...</td>\n",
       "    </tr>\n",
       "    <tr>\n",
       "      <th>18202</th>\n",
       "      <td>238813</td>\n",
       "      <td>J. Lundstram</td>\n",
       "      <td>Crewe Alexandra</td>\n",
       "      <td>1000.0</td>\n",
       "      <td>5'9</td>\n",
       "      <td>134.0</td>\n",
       "      <td>14</td>\n",
       "    </tr>\n",
       "    <tr>\n",
       "      <th>18203</th>\n",
       "      <td>243165</td>\n",
       "      <td>N. Christoffersson</td>\n",
       "      <td>Trelleborgs FF</td>\n",
       "      <td>1000.0</td>\n",
       "      <td>6'3</td>\n",
       "      <td>170.0</td>\n",
       "      <td>46</td>\n",
       "    </tr>\n",
       "    <tr>\n",
       "      <th>18204</th>\n",
       "      <td>241638</td>\n",
       "      <td>B. Worman</td>\n",
       "      <td>Cambridge United</td>\n",
       "      <td>1000.0</td>\n",
       "      <td>5'8</td>\n",
       "      <td>148.0</td>\n",
       "      <td>14</td>\n",
       "    </tr>\n",
       "    <tr>\n",
       "      <th>18205</th>\n",
       "      <td>246268</td>\n",
       "      <td>D. Walker-Rice</td>\n",
       "      <td>Tranmere Rovers</td>\n",
       "      <td>1000.0</td>\n",
       "      <td>5'10</td>\n",
       "      <td>154.0</td>\n",
       "      <td>14</td>\n",
       "    </tr>\n",
       "    <tr>\n",
       "      <th>18206</th>\n",
       "      <td>246269</td>\n",
       "      <td>G. Nugent</td>\n",
       "      <td>Tranmere Rovers</td>\n",
       "      <td>1000.0</td>\n",
       "      <td>5'10</td>\n",
       "      <td>176.0</td>\n",
       "      <td>14</td>\n",
       "    </tr>\n",
       "  </tbody>\n",
       "</table>\n",
       "<p>17918 rows × 7 columns</p>\n",
       "</div>"
      ],
      "text/plain": [
       "           ID                Name                 Club      Wage Height  \\\n",
       "0      158023            L. Messi         FC Barcelona  565000.0    5'7   \n",
       "1       20801   Cristiano Ronaldo             Juventus  405000.0    6'2   \n",
       "2      190871           Neymar Jr  Paris Saint-Germain  290000.0    5'9   \n",
       "3      193080              De Gea    Manchester United  260000.0    6'4   \n",
       "4      192985        K. De Bruyne      Manchester City  355000.0   5'11   \n",
       "...       ...                 ...                  ...       ...    ...   \n",
       "18202  238813        J. Lundstram      Crewe Alexandra    1000.0    5'9   \n",
       "18203  243165  N. Christoffersson       Trelleborgs FF    1000.0    6'3   \n",
       "18204  241638           B. Worman     Cambridge United    1000.0    5'8   \n",
       "18205  246268      D. Walker-Rice      Tranmere Rovers    1000.0   5'10   \n",
       "18206  246269           G. Nugent      Tranmere Rovers    1000.0   5'10   \n",
       "\n",
       "       Weight  FlagId  \n",
       "0       159.0      52  \n",
       "1       183.0      38  \n",
       "2       150.0      54  \n",
       "3       168.0      45  \n",
       "4       154.0       7  \n",
       "...       ...     ...  \n",
       "18202   134.0      14  \n",
       "18203   170.0      46  \n",
       "18204   148.0      14  \n",
       "18205   154.0      14  \n",
       "18206   176.0      14  \n",
       "\n",
       "[17918 rows x 7 columns]"
      ]
     },
     "execution_count": 97,
     "metadata": {},
     "output_type": "execute_result"
    }
   ],
   "source": [
    "df"
   ]
  },
  {
   "cell_type": "code",
   "execution_count": 101,
   "metadata": {},
   "outputs": [],
   "source": [
    "top10 = df.sort_values(by='Wage',ascending=False).head(10)"
   ]
  },
  {
   "cell_type": "code",
   "execution_count": 102,
   "metadata": {},
   "outputs": [
    {
     "data": {
      "text/html": [
       "<div>\n",
       "<style scoped>\n",
       "    .dataframe tbody tr th:only-of-type {\n",
       "        vertical-align: middle;\n",
       "    }\n",
       "\n",
       "    .dataframe tbody tr th {\n",
       "        vertical-align: top;\n",
       "    }\n",
       "\n",
       "    .dataframe thead th {\n",
       "        text-align: right;\n",
       "    }\n",
       "</style>\n",
       "<table border=\"1\" class=\"dataframe\">\n",
       "  <thead>\n",
       "    <tr style=\"text-align: right;\">\n",
       "      <th></th>\n",
       "      <th>ID</th>\n",
       "      <th>Name</th>\n",
       "      <th>Club</th>\n",
       "      <th>Wage</th>\n",
       "      <th>Height</th>\n",
       "      <th>Weight</th>\n",
       "      <th>FlagId</th>\n",
       "    </tr>\n",
       "  </thead>\n",
       "  <tbody>\n",
       "    <tr>\n",
       "      <th>0</th>\n",
       "      <td>158023</td>\n",
       "      <td>L. Messi</td>\n",
       "      <td>FC Barcelona</td>\n",
       "      <td>565000.0</td>\n",
       "      <td>5'7</td>\n",
       "      <td>159.0</td>\n",
       "      <td>52</td>\n",
       "    </tr>\n",
       "    <tr>\n",
       "      <th>7</th>\n",
       "      <td>176580</td>\n",
       "      <td>L. Suárez</td>\n",
       "      <td>FC Barcelona</td>\n",
       "      <td>455000.0</td>\n",
       "      <td>6'0</td>\n",
       "      <td>190.0</td>\n",
       "      <td>60</td>\n",
       "    </tr>\n",
       "    <tr>\n",
       "      <th>6</th>\n",
       "      <td>177003</td>\n",
       "      <td>L. Modrić</td>\n",
       "      <td>Real Madrid</td>\n",
       "      <td>420000.0</td>\n",
       "      <td>5'8</td>\n",
       "      <td>146.0</td>\n",
       "      <td>10</td>\n",
       "    </tr>\n",
       "    <tr>\n",
       "      <th>1</th>\n",
       "      <td>20801</td>\n",
       "      <td>Cristiano Ronaldo</td>\n",
       "      <td>Juventus</td>\n",
       "      <td>405000.0</td>\n",
       "      <td>6'2</td>\n",
       "      <td>183.0</td>\n",
       "      <td>38</td>\n",
       "    </tr>\n",
       "    <tr>\n",
       "      <th>8</th>\n",
       "      <td>155862</td>\n",
       "      <td>Sergio Ramos</td>\n",
       "      <td>Real Madrid</td>\n",
       "      <td>380000.0</td>\n",
       "      <td>6'0</td>\n",
       "      <td>181.0</td>\n",
       "      <td>45</td>\n",
       "    </tr>\n",
       "    <tr>\n",
       "      <th>4</th>\n",
       "      <td>192985</td>\n",
       "      <td>K. De Bruyne</td>\n",
       "      <td>Manchester City</td>\n",
       "      <td>355000.0</td>\n",
       "      <td>5'11</td>\n",
       "      <td>154.0</td>\n",
       "      <td>7</td>\n",
       "    </tr>\n",
       "    <tr>\n",
       "      <th>36</th>\n",
       "      <td>173731</td>\n",
       "      <td>G. Bale</td>\n",
       "      <td>Real Madrid</td>\n",
       "      <td>355000.0</td>\n",
       "      <td>6'1</td>\n",
       "      <td>181.0</td>\n",
       "      <td>50</td>\n",
       "    </tr>\n",
       "    <tr>\n",
       "      <th>11</th>\n",
       "      <td>182521</td>\n",
       "      <td>T. Kroos</td>\n",
       "      <td>Real Madrid</td>\n",
       "      <td>355000.0</td>\n",
       "      <td>6'0</td>\n",
       "      <td>168.0</td>\n",
       "      <td>21</td>\n",
       "    </tr>\n",
       "    <tr>\n",
       "      <th>32</th>\n",
       "      <td>189242</td>\n",
       "      <td>Coutinho</td>\n",
       "      <td>FC Barcelona</td>\n",
       "      <td>340000.0</td>\n",
       "      <td>5'8</td>\n",
       "      <td>150.0</td>\n",
       "      <td>54</td>\n",
       "    </tr>\n",
       "    <tr>\n",
       "      <th>5</th>\n",
       "      <td>183277</td>\n",
       "      <td>E. Hazard</td>\n",
       "      <td>Chelsea</td>\n",
       "      <td>340000.0</td>\n",
       "      <td>5'8</td>\n",
       "      <td>163.0</td>\n",
       "      <td>7</td>\n",
       "    </tr>\n",
       "  </tbody>\n",
       "</table>\n",
       "</div>"
      ],
      "text/plain": [
       "        ID               Name             Club      Wage Height  Weight  \\\n",
       "0   158023           L. Messi     FC Barcelona  565000.0    5'7   159.0   \n",
       "7   176580          L. Suárez     FC Barcelona  455000.0    6'0   190.0   \n",
       "6   177003          L. Modrić      Real Madrid  420000.0    5'8   146.0   \n",
       "1    20801  Cristiano Ronaldo         Juventus  405000.0    6'2   183.0   \n",
       "8   155862       Sergio Ramos      Real Madrid  380000.0    6'0   181.0   \n",
       "4   192985       K. De Bruyne  Manchester City  355000.0   5'11   154.0   \n",
       "36  173731            G. Bale      Real Madrid  355000.0    6'1   181.0   \n",
       "11  182521           T. Kroos      Real Madrid  355000.0    6'0   168.0   \n",
       "32  189242           Coutinho     FC Barcelona  340000.0    5'8   150.0   \n",
       "5   183277          E. Hazard          Chelsea  340000.0    5'8   163.0   \n",
       "\n",
       "    FlagId  \n",
       "0       52  \n",
       "7       60  \n",
       "6       10  \n",
       "1       38  \n",
       "8       45  \n",
       "4        7  \n",
       "36      50  \n",
       "11      21  \n",
       "32      54  \n",
       "5        7  "
      ]
     },
     "execution_count": 102,
     "metadata": {},
     "output_type": "execute_result"
    }
   ],
   "source": [
    "top10"
   ]
  },
  {
   "cell_type": "code",
   "execution_count": 113,
   "metadata": {},
   "outputs": [
    {
     "data": {
      "text/plain": [
       "<matplotlib.axes._subplots.AxesSubplot at 0x7f1091eebad0>"
      ]
     },
     "execution_count": 113,
     "metadata": {},
     "output_type": "execute_result"
    },
    {
     "data": {
      "image/png": "[encoded data removed]",
      "text/plain": [
       "<Figure size 432x288 with 1 Axes>"
      ]
     },
     "metadata": {
      "needs_background": "light"
     },
     "output_type": "display_data"
    }
   ],
   "source": [
    "sns.barplot(x='Wage',data=top10,y='Name')"
   ]
  },
  {
   "cell_type": "code",
   "execution_count": 117,
   "metadata": {},
   "outputs": [],
   "source": [
    "byflags = df['FlagId'].value_counts()"
   ]
  },
  {
   "cell_type": "code",
   "execution_count": 118,
   "metadata": {},
   "outputs": [
    {
     "data": {
      "text/plain": [
       "14    1664\n",
       "21    1195\n",
       "45    1103\n",
       "18     943\n",
       "52     935\n",
       "      ... \n",
       "91       2\n",
       "77       1\n",
       "71       1\n",
       "64       1\n",
       "0        1\n",
       "Name: FlagId, Length: 95, dtype: int64"
      ]
     },
     "execution_count": 118,
     "metadata": {},
     "output_type": "execute_result"
    }
   ],
   "source": [
    "byflags"
   ]
  },
  {
   "cell_type": "code",
   "execution_count": 126,
   "metadata": {},
   "outputs": [
    {
     "data": {
      "text/plain": [
       "<matplotlib.axes._subplots.AxesSubplot at 0x7f1090cef050>"
      ]
     },
     "execution_count": 126,
     "metadata": {},
     "output_type": "execute_result"
    },
    {
     "data": {
      "image/png": "[encoded data removed]",
      "text/plain": [
       "<Figure size 432x288 with 1 Axes>"
      ]
     },
     "metadata": {
      "needs_background": "light"
     },
     "output_type": "display_data"
    }
   ],
   "source": [
    "sns.countplot(y='FlagId',data=top10)"
   ]
  },
  {
   "cell_type": "code",
   "execution_count": 127,
   "metadata": {},
   "outputs": [
    {
     "data": {
      "text/html": [
       "<div>\n",
       "<style scoped>\n",
       "    .dataframe tbody tr th:only-of-type {\n",
       "        vertical-align: middle;\n",
       "    }\n",
       "\n",
       "    .dataframe tbody tr th {\n",
       "        vertical-align: top;\n",
       "    }\n",
       "\n",
       "    .dataframe thead th {\n",
       "        text-align: right;\n",
       "    }\n",
       "</style>\n",
       "<table border=\"1\" class=\"dataframe\">\n",
       "  <thead>\n",
       "    <tr style=\"text-align: right;\">\n",
       "      <th></th>\n",
       "      <th>ID</th>\n",
       "      <th>Name</th>\n",
       "      <th>Club</th>\n",
       "      <th>Wage</th>\n",
       "      <th>Height</th>\n",
       "      <th>Weight</th>\n",
       "      <th>FlagId</th>\n",
       "    </tr>\n",
       "  </thead>\n",
       "  <tbody>\n",
       "    <tr>\n",
       "      <th>0</th>\n",
       "      <td>158023</td>\n",
       "      <td>L. Messi</td>\n",
       "      <td>FC Barcelona</td>\n",
       "      <td>565000.0</td>\n",
       "      <td>5'7</td>\n",
       "      <td>159.0</td>\n",
       "      <td>52</td>\n",
       "    </tr>\n",
       "    <tr>\n",
       "      <th>1</th>\n",
       "      <td>20801</td>\n",
       "      <td>Cristiano Ronaldo</td>\n",
       "      <td>Juventus</td>\n",
       "      <td>405000.0</td>\n",
       "      <td>6'2</td>\n",
       "      <td>183.0</td>\n",
       "      <td>38</td>\n",
       "    </tr>\n",
       "    <tr>\n",
       "      <th>2</th>\n",
       "      <td>190871</td>\n",
       "      <td>Neymar Jr</td>\n",
       "      <td>Paris Saint-Germain</td>\n",
       "      <td>290000.0</td>\n",
       "      <td>5'9</td>\n",
       "      <td>150.0</td>\n",
       "      <td>54</td>\n",
       "    </tr>\n",
       "    <tr>\n",
       "      <th>3</th>\n",
       "      <td>193080</td>\n",
       "      <td>De Gea</td>\n",
       "      <td>Manchester United</td>\n",
       "      <td>260000.0</td>\n",
       "      <td>6'4</td>\n",
       "      <td>168.0</td>\n",
       "      <td>45</td>\n",
       "    </tr>\n",
       "    <tr>\n",
       "      <th>4</th>\n",
       "      <td>192985</td>\n",
       "      <td>K. De Bruyne</td>\n",
       "      <td>Manchester City</td>\n",
       "      <td>355000.0</td>\n",
       "      <td>5'11</td>\n",
       "      <td>154.0</td>\n",
       "      <td>7</td>\n",
       "    </tr>\n",
       "    <tr>\n",
       "      <th>...</th>\n",
       "      <td>...</td>\n",
       "      <td>...</td>\n",
       "      <td>...</td>\n",
       "      <td>...</td>\n",
       "      <td>...</td>\n",
       "      <td>...</td>\n",
       "      <td>...</td>\n",
       "    </tr>\n",
       "    <tr>\n",
       "      <th>18202</th>\n",
       "      <td>238813</td>\n",
       "      <td>J. Lundstram</td>\n",
       "      <td>Crewe Alexandra</td>\n",
       "      <td>1000.0</td>\n",
       "      <td>5'9</td>\n",
       "      <td>134.0</td>\n",
       "      <td>14</td>\n",
       "    </tr>\n",
       "    <tr>\n",
       "      <th>18203</th>\n",
       "      <td>243165</td>\n",
       "      <td>N. Christoffersson</td>\n",
       "      <td>Trelleborgs FF</td>\n",
       "      <td>1000.0</td>\n",
       "      <td>6'3</td>\n",
       "      <td>170.0</td>\n",
       "      <td>46</td>\n",
       "    </tr>\n",
       "    <tr>\n",
       "      <th>18204</th>\n",
       "      <td>241638</td>\n",
       "      <td>B. Worman</td>\n",
       "      <td>Cambridge United</td>\n",
       "      <td>1000.0</td>\n",
       "      <td>5'8</td>\n",
       "      <td>148.0</td>\n",
       "      <td>14</td>\n",
       "    </tr>\n",
       "    <tr>\n",
       "      <th>18205</th>\n",
       "      <td>246268</td>\n",
       "      <td>D. Walker-Rice</td>\n",
       "      <td>Tranmere Rovers</td>\n",
       "      <td>1000.0</td>\n",
       "      <td>5'10</td>\n",
       "      <td>154.0</td>\n",
       "      <td>14</td>\n",
       "    </tr>\n",
       "    <tr>\n",
       "      <th>18206</th>\n",
       "      <td>246269</td>\n",
       "      <td>G. Nugent</td>\n",
       "      <td>Tranmere Rovers</td>\n",
       "      <td>1000.0</td>\n",
       "      <td>5'10</td>\n",
       "      <td>176.0</td>\n",
       "      <td>14</td>\n",
       "    </tr>\n",
       "  </tbody>\n",
       "</table>\n",
       "<p>17918 rows × 7 columns</p>\n",
       "</div>"
      ],
      "text/plain": [
       "           ID                Name                 Club      Wage Height  \\\n",
       "0      158023            L. Messi         FC Barcelona  565000.0    5'7   \n",
       "1       20801   Cristiano Ronaldo             Juventus  405000.0    6'2   \n",
       "2      190871           Neymar Jr  Paris Saint-Germain  290000.0    5'9   \n",
       "3      193080              De Gea    Manchester United  260000.0    6'4   \n",
       "4      192985        K. De Bruyne      Manchester City  355000.0   5'11   \n",
       "...       ...                 ...                  ...       ...    ...   \n",
       "18202  238813        J. Lundstram      Crewe Alexandra    1000.0    5'9   \n",
       "18203  243165  N. Christoffersson       Trelleborgs FF    1000.0    6'3   \n",
       "18204  241638           B. Worman     Cambridge United    1000.0    5'8   \n",
       "18205  246268      D. Walker-Rice      Tranmere Rovers    1000.0   5'10   \n",
       "18206  246269           G. Nugent      Tranmere Rovers    1000.0   5'10   \n",
       "\n",
       "       Weight  FlagId  \n",
       "0       159.0      52  \n",
       "1       183.0      38  \n",
       "2       150.0      54  \n",
       "3       168.0      45  \n",
       "4       154.0       7  \n",
       "...       ...     ...  \n",
       "18202   134.0      14  \n",
       "18203   170.0      46  \n",
       "18204   148.0      14  \n",
       "18205   154.0      14  \n",
       "18206   176.0      14  \n",
       "\n",
       "[17918 rows x 7 columns]"
      ]
     },
     "execution_count": 127,
     "metadata": {},
     "output_type": "execute_result"
    }
   ],
   "source": [
    "df"
   ]
  },
  {
   "cell_type": "code",
   "execution_count": 140,
   "metadata": {},
   "outputs": [
    {
     "data": {
      "text/plain": [
       "<seaborn.axisgrid.FacetGrid at 0x7f10901426d0>"
      ]
     },
     "execution_count": 140,
     "metadata": {},
     "output_type": "execute_result"
    },
    {
     "data": {
      "image/png": "[encoded data removed]",
      "text/plain": [
       "<Figure size 360x360 with 1 Axes>"
      ]
     },
     "metadata": {
      "needs_background": "light"
     },
     "output_type": "display_data"
    }
   ],
   "source": [
    "sns.catplot(y='Weight',data=df)"
   ]
  },
  {
   "cell_type": "code",
   "execution_count": 143,
   "metadata": {},
   "outputs": [
    {
     "data": {
      "text/plain": [
       "<matplotlib.axes._subplots.AxesSubplot at 0x7f108bf63d10>"
      ]
     },
     "execution_count": 143,
     "metadata": {},
     "output_type": "execute_result"
    },
    {
     "data": {
      "image/png": "[encoded data removed]",
      "text/plain": [
       "<Figure size 432x288 with 1 Axes>"
      ]
     },
     "metadata": {
      "needs_background": "light"
     },
     "output_type": "display_data"
    }
   ],
   "source": [
    "df['Weight'].hist(bins=90)"
   ]
  },
  {
   "cell_type": "code",
   "execution_count": 145,
   "metadata": {},
   "outputs": [],
   "source": [
    "byFlag = df.groupby('FlagId')"
   ]
  },
  {
   "cell_type": "code",
   "execution_count": 151,
   "metadata": {},
   "outputs": [
    {
     "data": {
      "text/html": [
       "<div>\n",
       "<style scoped>\n",
       "    .dataframe tbody tr th:only-of-type {\n",
       "        vertical-align: middle;\n",
       "    }\n",
       "\n",
       "    .dataframe tbody tr th {\n",
       "        vertical-align: top;\n",
       "    }\n",
       "\n",
       "    .dataframe thead th {\n",
       "        text-align: right;\n",
       "    }\n",
       "</style>\n",
       "<table border=\"1\" class=\"dataframe\">\n",
       "  <thead>\n",
       "    <tr style=\"text-align: right;\">\n",
       "      <th></th>\n",
       "      <th>Wage</th>\n",
       "    </tr>\n",
       "    <tr>\n",
       "      <th>FlagId</th>\n",
       "      <th></th>\n",
       "    </tr>\n",
       "  </thead>\n",
       "  <tbody>\n",
       "    <tr>\n",
       "      <th>11</th>\n",
       "      <td>20178.571429</td>\n",
       "    </tr>\n",
       "    <tr>\n",
       "      <th>90</th>\n",
       "      <td>20000.000000</td>\n",
       "    </tr>\n",
       "    <tr>\n",
       "      <th>10</th>\n",
       "      <td>19370.786517</td>\n",
       "    </tr>\n",
       "    <tr>\n",
       "      <th>15</th>\n",
       "      <td>18307.692308</td>\n",
       "    </tr>\n",
       "    <tr>\n",
       "      <th>97</th>\n",
       "      <td>17852.459016</td>\n",
       "    </tr>\n",
       "    <tr>\n",
       "      <th>...</th>\n",
       "      <td>...</td>\n",
       "    </tr>\n",
       "    <tr>\n",
       "      <th>65</th>\n",
       "      <td>2000.000000</td>\n",
       "    </tr>\n",
       "    <tr>\n",
       "      <th>71</th>\n",
       "      <td>2000.000000</td>\n",
       "    </tr>\n",
       "    <tr>\n",
       "      <th>79</th>\n",
       "      <td>1666.666667</td>\n",
       "    </tr>\n",
       "    <tr>\n",
       "      <th>64</th>\n",
       "      <td>1000.000000</td>\n",
       "    </tr>\n",
       "    <tr>\n",
       "      <th>0</th>\n",
       "      <td>1000.000000</td>\n",
       "    </tr>\n",
       "  </tbody>\n",
       "</table>\n",
       "<p>95 rows × 1 columns</p>\n",
       "</div>"
      ],
      "text/plain": [
       "                Wage\n",
       "FlagId              \n",
       "11      20178.571429\n",
       "90      20000.000000\n",
       "10      19370.786517\n",
       "15      18307.692308\n",
       "97      17852.459016\n",
       "...              ...\n",
       "65       2000.000000\n",
       "71       2000.000000\n",
       "79       1666.666667\n",
       "64       1000.000000\n",
       "0        1000.000000\n",
       "\n",
       "[95 rows x 1 columns]"
      ]
     },
     "execution_count": 151,
     "metadata": {},
     "output_type": "execute_result"
    }
   ],
   "source": [
    "byFlag[['Wage']].mean().sort_values(by='Wage',ascending=False)"
   ]
  },
  {
   "cell_type": "code",
   "execution_count": 152,
   "metadata": {},
   "outputs": [
    {
     "data": {
      "text/html": [
       "<div>\n",
       "<style scoped>\n",
       "    .dataframe tbody tr th:only-of-type {\n",
       "        vertical-align: middle;\n",
       "    }\n",
       "\n",
       "    .dataframe tbody tr th {\n",
       "        vertical-align: top;\n",
       "    }\n",
       "\n",
       "    .dataframe thead th {\n",
       "        text-align: right;\n",
       "    }\n",
       "</style>\n",
       "<table border=\"1\" class=\"dataframe\">\n",
       "  <thead>\n",
       "    <tr style=\"text-align: right;\">\n",
       "      <th></th>\n",
       "      <th>ID</th>\n",
       "      <th>Wage</th>\n",
       "      <th>Weight</th>\n",
       "    </tr>\n",
       "    <tr>\n",
       "      <th>FlagId</th>\n",
       "      <th></th>\n",
       "      <th></th>\n",
       "      <th></th>\n",
       "    </tr>\n",
       "  </thead>\n",
       "  <tbody>\n",
       "    <tr>\n",
       "      <th>0</th>\n",
       "      <td>240614.000000</td>\n",
       "      <td>1000.000000</td>\n",
       "      <td>139.000000</td>\n",
       "    </tr>\n",
       "    <tr>\n",
       "      <th>1</th>\n",
       "      <td>219514.890909</td>\n",
       "      <td>8654.545455</td>\n",
       "      <td>163.345455</td>\n",
       "    </tr>\n",
       "    <tr>\n",
       "      <th>2</th>\n",
       "      <td>214138.250000</td>\n",
       "      <td>8250.000000</td>\n",
       "      <td>170.250000</td>\n",
       "    </tr>\n",
       "    <tr>\n",
       "      <th>3</th>\n",
       "      <td>216144.744898</td>\n",
       "      <td>12316.326531</td>\n",
       "      <td>172.244898</td>\n",
       "    </tr>\n",
       "    <tr>\n",
       "      <th>4</th>\n",
       "      <td>214660.860317</td>\n",
       "      <td>7933.333333</td>\n",
       "      <td>168.577778</td>\n",
       "    </tr>\n",
       "    <tr>\n",
       "      <th>...</th>\n",
       "      <td>...</td>\n",
       "      <td>...</td>\n",
       "      <td>...</td>\n",
       "    </tr>\n",
       "    <tr>\n",
       "      <th>93</th>\n",
       "      <td>171778.500000</td>\n",
       "      <td>9000.000000</td>\n",
       "      <td>169.000000</td>\n",
       "    </tr>\n",
       "    <tr>\n",
       "      <th>95</th>\n",
       "      <td>214759.533220</td>\n",
       "      <td>3908.006814</td>\n",
       "      <td>169.642249</td>\n",
       "    </tr>\n",
       "    <tr>\n",
       "      <th>97</th>\n",
       "      <td>206179.721311</td>\n",
       "      <td>17852.459016</td>\n",
       "      <td>167.032787</td>\n",
       "    </tr>\n",
       "    <tr>\n",
       "      <th>98</th>\n",
       "      <td>211825.387755</td>\n",
       "      <td>6346.938776</td>\n",
       "      <td>166.653061</td>\n",
       "    </tr>\n",
       "    <tr>\n",
       "      <th>99</th>\n",
       "      <td>213555.200000</td>\n",
       "      <td>8666.666667</td>\n",
       "      <td>175.066667</td>\n",
       "    </tr>\n",
       "  </tbody>\n",
       "</table>\n",
       "<p>95 rows × 3 columns</p>\n",
       "</div>"
      ],
      "text/plain": [
       "                   ID          Wage      Weight\n",
       "FlagId                                         \n",
       "0       240614.000000   1000.000000  139.000000\n",
       "1       219514.890909   8654.545455  163.345455\n",
       "2       214138.250000   8250.000000  170.250000\n",
       "3       216144.744898  12316.326531  172.244898\n",
       "4       214660.860317   7933.333333  168.577778\n",
       "...               ...           ...         ...\n",
       "93      171778.500000   9000.000000  169.000000\n",
       "95      214759.533220   3908.006814  169.642249\n",
       "97      206179.721311  17852.459016  167.032787\n",
       "98      211825.387755   6346.938776  166.653061\n",
       "99      213555.200000   8666.666667  175.066667\n",
       "\n",
       "[95 rows x 3 columns]"
      ]
     },
     "execution_count": 152,
     "metadata": {},
     "output_type": "execute_result"
    }
   ],
   "source": [
    "byFlag.mean()"
   ]
  },
  {
   "cell_type": "code",
   "execution_count": null,
   "metadata": {},
   "outputs": [],
   "source": []
  }
 ],
 "metadata": {
  "kernelspec": {
   "display_name": "Python 3",
   "language": "python",
   "name": "python3"
  },
  "language_info": {
   "codemirror_mode": {
    "name": "ipython",
    "version": 3
   },
   "file_extension": ".py",
   "mimetype": "text/x-python",
   "name": "python",
   "nbconvert_exporter": "python",
   "pygments_lexer": "ipython3",
   "version": "3.7.6"
  }
 },
 "nbformat": 4,
 "nbformat_minor": 4
}
